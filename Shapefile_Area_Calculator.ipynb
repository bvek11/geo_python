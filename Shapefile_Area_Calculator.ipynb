{
  "nbformat": 4,
  "nbformat_minor": 0,
  "metadata": {
    "colab": {
      "private_outputs": true,
      "provenance": []
    },
    "kernelspec": {
      "name": "python3",
      "display_name": "Python 3"
    },
    "language_info": {
      "name": "python"
    }
  },
  "cells": [
    {
      "cell_type": "code",
      "source": [
        "pip install rasterio"
      ],
      "metadata": {
        "collapsed": true,
        "id": "6k5PT5EvjR3j"
      },
      "execution_count": null,
      "outputs": []
    },
    {
      "cell_type": "markdown",
      "source": [
        "#Shapefile Area Calculator"
      ],
      "metadata": {
        "id": "bJW1jEX1sv2G"
      }
    },
    {
      "cell_type": "code",
      "source": [
        "import geopandas as gpd\n",
        "\n",
        "def calculate_area(shapefile_path):\n",
        "    # Read the shapefile\n",
        "    gdf = gpd.read_file(shapefile_path)\n",
        "\n",
        "    # Ensure the CRS is in meters (projected coordinate system)\n",
        "    if gdf.crs is None:\n",
        "        raise ValueError(\"Shapefile has no CRS. Please define a valid coordinate reference system.\")\n",
        "\n",
        "    # Convert to EPSG:32644 if not already set\n",
        "    if gdf.crs.to_epsg() != 32644:\n",
        "        gdf = gdf.to_crs(epsg=32644)\n",
        "\n",
        "    # Calculate area in square kilometers\n",
        "    gdf['area_sq_km'] = gdf.geometry.area / 1e6  # Convert square meters to square kilometers\n",
        "\n",
        "    # Calculate total area\n",
        "    total_area_sq_km = gdf['area_sq_km'].sum()\n",
        "\n",
        "    # Print results\n",
        "    #print(gdf[['geometry', 'area_sq_km']])\n",
        "    print(f\"Total Area of treecover 2023_shp : {total_area_sq_km} sq km\")\n",
        "\n",
        "    return total_area_sq_km\n",
        "\n",
        "# Example usage\n",
        "calculate_area(r\"/content/drive/MyDrive/Blue_Green/Treecovershp/Copy of landcover_2023_clipped_32644_Treecover.shp\")\n",
        "\n"
      ],
      "metadata": {
        "id": "Qc1q6vbysxu2"
      },
      "execution_count": null,
      "outputs": []
    },
    {
      "cell_type": "code",
      "source": [
        "import geopandas as gpd\n",
        "\n",
        "def calculate_area(shapefile_path):\n",
        "    # Read the shapefile\n",
        "    gdf = gpd.read_file(shapefile_path)\n",
        "\n",
        "    # Ensure the CRS is in meters (projected coordinate system)\n",
        "    if gdf.crs is None:\n",
        "        raise ValueError(\"Shapefile has no CRS. Please define a valid coordinate reference system.\")\n",
        "\n",
        "    # Convert to EPSG:32644 if not already set\n",
        "    if gdf.crs.to_epsg() != 32644:\n",
        "        gdf = gdf.to_crs(epsg=32644)\n",
        "\n",
        "    # Calculate area in square kilometers\n",
        "    gdf['area_sq_km'] = gdf.geometry.area / 1e6  # Convert square meters to square kilometers\n",
        "\n",
        "    # Calculate total area\n",
        "    total_area_sq_km = gdf['area_sq_km'].sum()\n",
        "\n",
        "    # Print results\n",
        "    #print(gdf[['geometry', 'area_sq_km']])\n",
        "    print(f\"Total Area of treecover 2019_shp : {total_area_sq_km} sq km\")\n",
        "\n",
        "    return total_area_sq_km\n",
        "\n",
        "# Example usage\n",
        "calculate_area(r\"/content/drive/MyDrive/Blue_Green/Treecovershp/Copy of landcover_2019_clipped_32644_Treecover.shp\")\n",
        "\n"
      ],
      "metadata": {
        "id": "Oy9w6iO_uCs0"
      },
      "execution_count": null,
      "outputs": []
    },
    {
      "cell_type": "markdown",
      "source": [
        "#Rasterio Area Calculator"
      ],
      "metadata": {
        "id": "Vld9LyaNwM6X"
      }
    },
    {
      "cell_type": "code",
      "source": [
        "import rasterio\n",
        "import numpy as np\n",
        "\n",
        "def calculate_raster_area_in_km2(raster_path):\n",
        "    with rasterio.open(raster_path) as src:\n",
        "        raster_data = src.read(1)  # Read the first band\n",
        "        pixel_size_x, pixel_size_y = src.res  # Resolution in X and Y direction\n",
        "        pixel_area_m2 = abs(pixel_size_x * pixel_size_y)  # Area of one pixel in square meters\n",
        "\n",
        "        valid_pixels = np.count_nonzero(~np.isnan(raster_data))  # Count non-NaN pixels\n",
        "        total_area_m2 = valid_pixels * pixel_area_m2  # Total area in square meters\n",
        "\n",
        "        # Convert total area from square meters to square kilometers\n",
        "        total_area_km2 = total_area_m2 / 1000000\n",
        "\n",
        "        return total_area_km2\n",
        "\n",
        "# Example usage\n",
        "raster_file = r\"/content/drive/MyDrive/Blue_Green/Copy of landcover_2023_clipped_32644_Treecover.tif\"\n",
        "total_area_km2 = calculate_raster_area_in_km2(raster_file)\n",
        "print(f\"Total Area: {total_area_km2} square kilometers\")\n"
      ],
      "metadata": {
        "id": "NIWdxSAlukZY"
      },
      "execution_count": null,
      "outputs": []
    },
    {
      "cell_type": "markdown",
      "source": [],
      "metadata": {
        "id": "S-5AQlGPQkCD"
      }
    }
  ]
}