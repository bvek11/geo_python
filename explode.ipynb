{
 "cells": [
  {
   "cell_type": "code",
   "execution_count": null,
   "id": "805d12d9-c5de-4c09-8df8-bfc2f06aa2ac",
   "metadata": {},
   "outputs": [],
   "source": [
    "import geopandas as gpd\n",
    "import os\n",
    "\n",
    "def explode():\n",
    "    # Get user input for the Shapefile path\n",
    "    input_file = input(\"Enter the path to the Shapefile: \").strip('\"').strip(\"'\")\n",
    "    \n",
    "    # Read the Shapefile\n",
    "    gdf = gpd.read_file(input_file)\n",
    "    \n",
    "    # Explode MultiPolygons into individual Polygons\n",
    "    gdf_exploded = gdf.explode(index_parts=False)\n",
    "\n",
    "    # Construct output filename\n",
    "    base_name, ext = os.path.splitext(input_file)\n",
    "    output_file = f\"{base_name}_exploded{ext}\"\n",
    "\n",
    "    # Save the new Shapefile\n",
    "    gdf_exploded.to_file(output_file)\n",
    "\n",
    "    print(f\"Exploded shapefile saved as: {output_file}\")\n",
    "\n",
    "# Run the function\n",
    "explode()\n",
    "\n"
   ]
  }
 ],
 "metadata": {
  "kernelspec": {
   "display_name": "Python 3 (ipykernel)",
   "language": "python",
   "name": "python3"
  },
  "language_info": {
   "codemirror_mode": {
    "name": "ipython",
    "version": 3
   },
   "file_extension": ".py",
   "mimetype": "text/x-python",
   "name": "python",
   "nbconvert_exporter": "python",
   "pygments_lexer": "ipython3",
   "version": "3.11.11"
  }
 },
 "nbformat": 4,
 "nbformat_minor": 5
}
