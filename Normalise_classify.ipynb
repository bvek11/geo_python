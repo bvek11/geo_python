{
  "nbformat": 4,
  "nbformat_minor": 0,
  "metadata": {
    "colab": {
      "provenance": []
    },
    "kernelspec": {
      "name": "python3",
      "display_name": "Python 3"
    },
    "language_info": {
      "name": "python"
    }
  },
  "cells": [
    {
      "cell_type": "code",
      "source": [
        "pip install rasterio"
      ],
      "metadata": {
        "id": "PaU_EYAQjitm"
      },
      "execution_count": null,
      "outputs": []
    },
    {
      "cell_type": "code",
      "source": [
        "!pip install osgeo"
      ],
      "metadata": {
        "id": "SFeONVZzYIXd"
      },
      "execution_count": null,
      "outputs": []
    },
    {
      "cell_type": "code",
      "execution_count": null,
      "metadata": {
        "colab": {
          "base_uri": "https://localhost:8080/"
        },
        "id": "WLG6Juv4W9FI",
        "outputId": "17facaee-3f3d-4bec-ab88-00e890f1c3fd"
      },
      "outputs": [
        {
          "output_type": "stream",
          "name": "stdout",
          "text": [
            "Category 0: 0\n",
            "Category 1: 0\n",
            "Category 2: 0\n",
            "Category 3: 0\n",
            "Category 4: 0\n",
            "Category 5: 0\n",
            "Category 6: 0\n",
            "Category 7: 0\n",
            "Category 8: 0\n",
            "Category 9: 0\n"
          ]
        }
      ],
      "source": [
        "from osgeo import gdal\n",
        "import numpy as np\n",
        "\n",
        "# Open the raster file\n",
        "raster_file = '/content/drive/MyDrive/New folder/Landsat8L230m-FCD-clipped20170325.tif'\n",
        "ds = gdal.Open(raster_file)\n",
        "\n",
        "# Read the raster band\n",
        "band = ds.GetRasterBand(1)\n",
        "data = band.ReadAsArray()\n",
        "\n",
        "# Normalize the pixel values to the range [0, 100]\n",
        "min_val = np.min(data)\n",
        "max_val = np.max(data)\n",
        "normalized_data = ((data - min_val) / (max_val - min_val)) * 100\n",
        "\n",
        "# Reclassify pixels into 10 categories\n",
        "categories = np.linspace(1, 100, num=11)\n",
        "reclassified_data = np.digitize(normalized_data, categories)\n",
        "\n",
        "# Count the number of pixels in each category\n",
        "category_counts = np.bincount(reclassified_data.flatten())\n",
        "\n",
        "# Display the counts for each category\n",
        "for i in range(len(categories) - 1):\n",
        "    print(f\"Category {i}: {category_counts[i]}\")\n",
        "\n",
        "# Close the raster file\n",
        "ds = None\n"
      ]
    },
    {
      "cell_type": "code",
      "source": [
        "from google.colab import drive\n",
        "drive.mount('/content/drive')"
      ],
      "metadata": {
        "id": "f4pl4G8zj7Kb"
      },
      "execution_count": null,
      "outputs": []
    },
    {
      "cell_type": "code",
      "source": [
        "from osgeo import gdal\n",
        "import numpy as np\n",
        "\n",
        "# Open the raster file\n",
        "raster_file = '/content/drive/MyDrive/New folder/Landsat9L230m-FCD-clipped20220331.tif'\n",
        "ds = gdal.Open(raster_file)\n",
        "\n",
        "# Read the raster band\n",
        "band = ds.GetRasterBand(1)\n",
        "data = band.ReadAsArray()\n",
        "\n",
        "# Normalize the pixel values to the range [0, 100]\n",
        "min_val = np.min(data)\n",
        "max_val = np.max(data)\n",
        "normalized_data = ((data - min_val) / (max_val - min_val)) * 100\n",
        "normalized_data\n"
      ],
      "metadata": {
        "colab": {
          "base_uri": "https://localhost:8080/"
        },
        "id": "X4GpyC9uk2TW",
        "outputId": "a1619882-bd33-4d20-ec3d-8414bdb91ee2"
      },
      "execution_count": null,
      "outputs": [
        {
          "output_type": "execute_result",
          "data": {
            "text/plain": [
              "array([[nan, nan, nan, ..., nan, nan, nan],\n",
              "       [nan, nan, nan, ..., nan, nan, nan],\n",
              "       [nan, nan, nan, ..., nan, nan, nan],\n",
              "       ...,\n",
              "       [nan, nan, nan, ..., nan, nan, nan],\n",
              "       [nan, nan, nan, ..., nan, nan, nan],\n",
              "       [nan, nan, nan, ..., nan, nan, nan]])"
            ]
          },
          "metadata": {},
          "execution_count": 11
        }
      ]
    },
    {
      "cell_type": "code",
      "source": [
        "\n",
        "print(min_val,max_val)\n",
        "# Reclassify pixels into 10 categories\n",
        "categories = np.linspace(1, 100, num=11)\n",
        "reclassified_data = np.digitize(normalized_data, categories)\n",
        "\n",
        "# Count the number of pixels in each category\n",
        "category_counts = np.bincount(reclassified_data.flatten())\n",
        "\n",
        "# Display the counts for each category\n",
        "for i in range(len(categories) - 1):\n",
        "    print(f\"Category {i}: {category_counts[i]}\")\n",
        "\n",
        "# Close the raster file\n",
        "ds = None"
      ],
      "metadata": {
        "id": "0VO0gSs5pCR-"
      },
      "execution_count": null,
      "outputs": []
    }
  ]
}