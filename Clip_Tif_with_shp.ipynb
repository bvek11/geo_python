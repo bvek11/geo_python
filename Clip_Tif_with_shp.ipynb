{
 "cells": [
  {
   "cell_type": "code",
   "execution_count": 1,
   "id": "595f9cdf",
   "metadata": {},
   "outputs": [
    {
     "name": "stdout",
     "output_type": "stream",
     "text": [
      "Clipped raster saved to: C:\\Users\\91956\\Downloads\\fcd_treecover.tif\n"
     ]
    }
   ],
   "source": [
    "import rasterio\n",
    "from rasterio.mask import mask\n",
    "import geopandas as gpd\n",
    "import os\n",
    "\n",
    "# Function to clip a raster file with a shapefile\n",
    "def clip_raster_with_shapefile(raster_path, shapefile_path, output_path):\n",
    "    \"\"\"\n",
    "    Clip a raster file using a shapefile and save the new raster.\n",
    "\n",
    "    Parameters:\n",
    "        raster_path (str): Path to the input raster file.\n",
    "        shapefile_path (str): Path to the input shapefile.\n",
    "        output_path (str): Path to save the clipped raster.\n",
    "    \"\"\"\n",
    "    try:\n",
    "        # Read the shapefile\n",
    "        shapefile = gpd.read_file(shapefile_path)\n",
    "\n",
    "        # Ensure the shapefile and raster CRS match\n",
    "        with rasterio.open(raster_path) as src:\n",
    "            raster_crs = src.crs\n",
    "\n",
    "        if shapefile.crs != raster_crs:\n",
    "            shapefile = shapefile.to_crs(raster_crs)\n",
    "\n",
    "        # Extract the geometry from the shapefile\n",
    "        shapes = [feature['geometry'] for feature in shapefile.iterfeatures()]\n",
    "\n",
    "        # Open the raster file\n",
    "        with rasterio.open(raster_path) as src:\n",
    "            # Clip the raster using the shapefile geometry\n",
    "            out_image, out_transform = mask(src, shapes, crop=True)\n",
    "            out_meta = src.meta.copy()\n",
    "\n",
    "        # Update metadata for the clipped raster\n",
    "        out_meta.update({\n",
    "            \"driver\": \"GTiff\",\n",
    "            \"height\": out_image.shape[1],\n",
    "            \"width\": out_image.shape[2],\n",
    "            \"transform\": out_transform\n",
    "        })\n",
    "\n",
    "        # Save the clipped raster\n",
    "        with rasterio.open(output_path, \"w\", **out_meta) as dest:\n",
    "            dest.write(out_image)\n",
    "\n",
    "        print(f\"Clipped raster saved to: {output_path}\")\n",
    "\n",
    "    except Exception as e:\n",
    "        print(f\"Error during clipping: {e}\")\n",
    "\n",
    "# Example usage\n",
    "# Provide paths to the raster file, shapefile, and output file\n",
    "raster_path = r\"C:\\Users\\91956\\Downloads\\TN_FCD\\FCDmerged.tif\"\n",
    "shapefile_path = r\"C:\\Users\\91956\\Downloads\\Green_elements_400.gpkg\"\n",
    "output_path = r\"C:\\Users\\91956\\Downloads\\fcd_treecover.tif\"\n",
    "\n",
    "\n",
    "clip_raster_with_shapefile(raster_path, shapefile_path, output_path)\n"
   ]
  },
  {
   "cell_type": "code",
   "execution_count": null,
   "id": "76e259a4",
   "metadata": {},
   "outputs": [],
   "source": []
  }
 ],
 "metadata": {
  "kernelspec": {
   "display_name": "Python 3 (ipykernel)",
   "language": "python",
   "name": "python3"
  },
  "language_info": {
   "codemirror_mode": {
    "name": "ipython",
    "version": 3
   },
   "file_extension": ".py",
   "mimetype": "text/x-python",
   "name": "python",
   "nbconvert_exporter": "python",
   "pygments_lexer": "ipython3",
   "version": "3.11.11"
  }
 },
 "nbformat": 4,
 "nbformat_minor": 5
}
